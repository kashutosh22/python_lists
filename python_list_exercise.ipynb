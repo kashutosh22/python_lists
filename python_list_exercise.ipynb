{
 "cells": [
  {
   "cell_type": "code",
   "execution_count": 3,
   "id": "dbabe2ee",
   "metadata": {},
   "outputs": [
    {
     "name": "stdout",
     "output_type": "stream",
     "text": [
      "How many elements are in both list?5\n",
      "Enter the element of first list:2\n",
      "Enter the element of first list:10\n",
      "Enter the element of first list:13\n",
      "Enter the element of first list:22\n",
      "Enter the element of first list:7\n",
      "Enter the element of second list:5\n",
      "Enter the element of second list:8\n",
      "Enter the element of second list:39\n",
      "Enter the element of second list:56\n",
      "Enter the element of second list:44\n",
      "[2, 10, 13, 22, 7]\n",
      "[5, 8, 39, 56, 44]\n"
     ]
    }
   ],
   "source": [
    "# 1. WAP to enter elements in list\n",
    "\n",
    "n = int(input('How many elements are in both list? '))\n",
    "list1 = []\n",
    "list2 = []\n",
    "for i in range(n):\n",
    "    element1 = int(input('Enter the element of first list:'))\n",
    "    list1.append(element1)\n",
    "\n",
    "for i in range(n):\n",
    "    element2 = int(input('Enter the element of second list:'))\n",
    "    list2.append(element2)\n",
    "print(list1)\n",
    "print(list2)\n",
    "\n",
    "\n",
    "\n"
   ]
  },
  {
   "cell_type": "code",
   "execution_count": null,
   "id": "376031e9",
   "metadata": {},
   "outputs": [],
   "source": []
  },
  {
   "cell_type": "code",
   "execution_count": 6,
   "id": "e7839c56",
   "metadata": {},
   "outputs": [
    {
     "name": "stdout",
     "output_type": "stream",
     "text": [
      "Origonal list = [12, 35, 9, 56, 24]\n",
      "List after swapping of element = [24, 35, 9, 56, 12]\n"
     ]
    }
   ],
   "source": [
    "# 2. Python program to interchange first and last elements in a list\n",
    "\n",
    "# Soln 1:\n",
    "l = [12, 35, 9, 56, 24]\n",
    "print('Origonal list =', l)\n",
    "x = l[0]\n",
    "l[0] = l[-1]\n",
    "l[-1] = x\n",
    "print('List after swapping of element =', l)  \n",
    "\n"
   ]
  },
  {
   "cell_type": "code",
   "execution_count": 7,
   "id": "2450b054",
   "metadata": {},
   "outputs": [
    {
     "name": "stdout",
     "output_type": "stream",
     "text": [
      "Origonal list = [24, 35, 9, 56, 12]\n",
      "List after swapping of element = [12, 35, 9, 56, 24]\n"
     ]
    }
   ],
   "source": [
    "# Soln. 2:\n",
    "\n",
    "l = [24, 35, 9, 56, 12]\n",
    "print('Origonal list =', l)\n",
    "l[0], l[-1] = l[-1], l[0]\n",
    "print('List after swapping of element =', l)  \n",
    "\n"
   ]
  },
  {
   "cell_type": "code",
   "execution_count": 9,
   "id": "80fed18b",
   "metadata": {},
   "outputs": [
    {
     "name": "stdout",
     "output_type": "stream",
     "text": [
      "Origonal list = [8, 35, 9, 56, 16]\n",
      "List after swapping of element = [16, 35, 9, 56, 8]\n"
     ]
    }
   ],
   "source": [
    "# Soln. 3:\n",
    "\n",
    "l = [8, 35, 9, 56, 16]\n",
    "print('Origonal list =', l)\n",
    "newlist = []\n",
    "a = l[0]\n",
    "b = l[-1]\n",
    "l.pop(0)\n",
    "l.insert(0,b)\n",
    "l.pop(-1)\n",
    "l.append(a)\n",
    "print('List after swapping of element =', l)"
   ]
  },
  {
   "cell_type": "code",
   "execution_count": null,
   "id": "a5d3d724",
   "metadata": {},
   "outputs": [],
   "source": []
  },
  {
   "cell_type": "code",
   "execution_count": 2,
   "id": "d0984551",
   "metadata": {},
   "outputs": [
    {
     "name": "stdout",
     "output_type": "stream",
     "text": [
      "['Hello', 'my', 'name', 'is', 'Steve']\n"
     ]
    }
   ],
   "source": [
    "# 3. WAP to concatenate 2 lists index wise.\n",
    "\n",
    "# Soln 1:\n",
    "list1 = [\"He\", \"m\", \"na\", \"i\", \"Ste\"]\n",
    "list2 = [\"llo\", \"y\", \"me\", \"s\", \"ve\"]\n",
    "\n",
    "new_list = []\n",
    "for i,j in zip(list1,list2):\n",
    "        x = i + j\n",
    "        new_list.append(x)\n",
    "print(new_list)\n",
    "\n"
   ]
  },
  {
   "cell_type": "code",
   "execution_count": 5,
   "id": "f502759a",
   "metadata": {},
   "outputs": [
    {
     "name": "stdout",
     "output_type": "stream",
     "text": [
      "['Hello', 'my', 'name', 'is', 'Steve']\n"
     ]
    }
   ],
   "source": [
    "# Soln 2. ------ By list comprehension\n",
    "list1 = [\"He\", \"m\", \"na\", \"i\", \"Ste\"]\n",
    "list2 = [\"llo\", \"y\", \"me\", \"s\", \"ve\"]\n",
    "\n",
    "new_list = [i + j for i,j in zip(list1, list2)]\n",
    "print(new_list)"
   ]
  },
  {
   "cell_type": "code",
   "execution_count": null,
   "id": "ee74c567",
   "metadata": {},
   "outputs": [],
   "source": []
  },
  {
   "cell_type": "code",
   "execution_count": 14,
   "id": "c81093bd",
   "metadata": {},
   "outputs": [
    {
     "name": "stdout",
     "output_type": "stream",
     "text": [
      "['Ranbir Singh', 'Ranbir Kapoor', 'Vishal Singh', 'Vishal Kapoor']\n"
     ]
    }
   ],
   "source": [
    "# 4. WAP to concatenate two list so that object present in both list can concatenate with each of one.\n",
    "list1 = [\"Ranbir\", \"Vishal\"]\n",
    "list2 = [\"Singh\", \"Kapoor\"]\n",
    "\n",
    "result = []\n",
    "for i in list1:\n",
    "    for j in list2:\n",
    "        x = i + \" \" + j\n",
    "        result.append(x)\n",
    "print(result)"
   ]
  },
  {
   "cell_type": "code",
   "execution_count": null,
   "id": "bd61731f",
   "metadata": {},
   "outputs": [],
   "source": []
  },
  {
   "cell_type": "code",
   "execution_count": 35,
   "id": "af3780bf",
   "metadata": {},
   "outputs": [
    {
     "name": "stdout",
     "output_type": "stream",
     "text": [
      "10 400\n",
      "20 300\n",
      "30 200\n",
      "40 100\n"
     ]
    }
   ],
   "source": [
    "# 5. WAP to print element of both list simultanously but 2nd list should print reverse.\n",
    "\n",
    "list1 = [10, 20, 30, 40]\n",
    "list2 = [100, 200, 300, 400]\n",
    "\n",
    "for i, j in zip(list1, list2[::-1]):\n",
    "    print(i, j)"
   ]
  },
  {
   "cell_type": "code",
   "execution_count": null,
   "id": "6017e1ac",
   "metadata": {},
   "outputs": [],
   "source": []
  },
  {
   "cell_type": "code",
   "execution_count": 47,
   "id": "c281c9b5",
   "metadata": {},
   "outputs": [
    {
     "name": "stdout",
     "output_type": "stream",
     "text": [
      "['Mohasin', 'Rahul', 'Erik', 'Jogindar']\n"
     ]
    }
   ],
   "source": [
    "# 6. WAP to remove empty string and none value from a given list.\n",
    "\n",
    "list1 = [\"Mohasin\", \"\", \"Rahul\", \"Erik\", \"\", None,  \"Jogindar\"]\n",
    "\n",
    "for i in list1:\n",
    "    list2 = list(filter(None, list1))\n",
    "print(list2)"
   ]
  },
  {
   "cell_type": "code",
   "execution_count": 100,
   "id": "0fd97d6d",
   "metadata": {},
   "outputs": [
    {
     "name": "stdout",
     "output_type": "stream",
     "text": [
      "[10, 'B', [23.4, 400, ['X', 60, 700], '$'], 59, 'Z']\n",
      "[10, 'B', [23.4, 400, ['X', 89, 60, 700], '$'], 59, 'Z']\n"
     ]
    }
   ],
   "source": [
    "# 7. WAP to insert a element after specific element in given list.\n",
    "\n",
    "# Adding element at end of nested list.\n",
    "\n",
    "list1 = [10, \"B\", [23.4, 400, [\"X\", 60], \"$\"], 59, \"Z\"]\n",
    "list1[2][2].append(700) # use indexing to locate required element.\n",
    "print(list1)\n",
    "\n",
    "# Adding element in between of two element of nested list.\n",
    "\n",
    "list1[2][2].insert(1,89) \n",
    "print(list1)\n",
    "\n"
   ]
  },
  {
   "cell_type": "code",
   "execution_count": null,
   "id": "c395981d",
   "metadata": {},
   "outputs": [],
   "source": []
  },
  {
   "cell_type": "code",
   "execution_count": 115,
   "id": "4f5419e3",
   "metadata": {},
   "outputs": [
    {
     "name": "stdout",
     "output_type": "stream",
     "text": [
      "[10, 50, 40, 80]\n"
     ]
    }
   ],
   "source": [
    "# 8. WAP to remove all occurances of a number.\n",
    "\n",
    "l = [10,20,50,20,40,20,80,20]    # Remove 20 from list\n",
    "l1 = []\n",
    "for i in l:\n",
    "    if i != 20:\n",
    "        l1.append(i) # creat a new list after elemenating the element\n",
    "print(l1)\n"
   ]
  },
  {
   "cell_type": "code",
   "execution_count": null,
   "id": "68f29dcb",
   "metadata": {},
   "outputs": [],
   "source": []
  },
  {
   "cell_type": "code",
   "execution_count": 127,
   "id": "9919360a",
   "metadata": {},
   "outputs": [
    {
     "name": "stdout",
     "output_type": "stream",
     "text": [
      "51\n"
     ]
    }
   ],
   "source": [
    "# 9. WAP to find largest number of list.\n",
    "\n",
    "sample_list = [20,10,50,40,45,51,38,26]\n",
    "maxim = sample_list[0]\n",
    "for i in sample_list:\n",
    "    if i > maxim:\n",
    "        maxim = i\n",
    "print(maxim)"
   ]
  },
  {
   "cell_type": "code",
   "execution_count": null,
   "id": "dbc2ab04",
   "metadata": {},
   "outputs": [],
   "source": []
  },
  {
   "cell_type": "code",
   "execution_count": 131,
   "id": "c153f802",
   "metadata": {},
   "outputs": [
    {
     "name": "stdout",
     "output_type": "stream",
     "text": [
      "Count of string =  3\n"
     ]
    }
   ],
   "source": [
    "# 10. WAP to find count of string which have length 2 or more and whose first and last char is same.\n",
    "\n",
    "sample_list = ['abc', '656', 'uv', 'xyz', 'aba', '5225']\n",
    "count = 0\n",
    "for i in sample_list:\n",
    "    if len(i) >= 2 and i[0] == i[-1]:\n",
    "        count += 1\n",
    "print('Count of string = ',count)\n",
    "    "
   ]
  },
  {
   "cell_type": "code",
   "execution_count": null,
   "id": "998000ef",
   "metadata": {},
   "outputs": [],
   "source": []
  },
  {
   "cell_type": "code",
   "execution_count": null,
   "id": "d307645c",
   "metadata": {},
   "outputs": [],
   "source": []
  }
 ],
 "metadata": {
  "kernelspec": {
   "display_name": "Python 3 (ipykernel)",
   "language": "python",
   "name": "python3"
  },
  "language_info": {
   "codemirror_mode": {
    "name": "ipython",
    "version": 3
   },
   "file_extension": ".py",
   "mimetype": "text/x-python",
   "name": "python",
   "nbconvert_exporter": "python",
   "pygments_lexer": "ipython3",
   "version": "3.9.7"
  }
 },
 "nbformat": 4,
 "nbformat_minor": 5
}
